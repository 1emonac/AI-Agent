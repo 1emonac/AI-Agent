{
 "cells": [
  {
   "cell_type": "markdown",
   "metadata": {},
   "source": [
    "# Crew AI"
   ]
  },
  {
   "cell_type": "code",
   "execution_count": null,
   "metadata": {},
   "outputs": [],
   "source": [
    "pip install -q crewai crewai-tools"
   ]
  },
  {
   "cell_type": "markdown",
   "metadata": {},
   "source": [
    "# Agent 정의"
   ]
  },
  {
   "cell_type": "code",
   "execution_count": 1,
   "metadata": {},
   "outputs": [],
   "source": [
    "from crewai import Agent, Task, Crew\n",
    "from langchain_openai import ChatOpenAI\n",
    "import os\n",
    "os.environ[\"OPENAI_API_KEY\"] = \"\""
   ]
  },
  {
   "cell_type": "code",
   "execution_count": 2,
   "metadata": {},
   "outputs": [],
   "source": [
    "# 목차 설정 에이전트\n",
    "outline_generator = Agent(\n",
    "    role=\"Outline Generator\", # 역할할\n",
    "    goal=\"Create structured outlines for articles on given topics. answer in Korean\", # 어떤 행동을 해야하는가가\n",
    "    llm = ChatOpenAI(model=\"gpt-4o\", max_tokens = 1000),\n",
    "    backstory=\"You are an expert at organizing information and creating comprehensive outlines for various subjects.\" # 시스템 프롬프트의 보조 부분분\n",
    ")"
   ]
  },
  {
   "cell_type": "code",
   "execution_count": 3,
   "metadata": {},
   "outputs": [],
   "source": [
    "# 본문 작성 에이전트\n",
    "writer = Agent(\n",
    "    role=\"Writer\",\n",
    "    goal=\"Create engaging content based on research. answer in Korean\",\n",
    "    llm = ChatOpenAI(model = \"gpt-4o\", max_tokens = 3000),\n",
    "    backstory=\"You are a skilled wiorter who can transform complex information into readable content.\"\"AI Agent.md\"\n",
    ")"
   ]
  },
  {
   "cell_type": "markdown",
   "metadata": {},
   "source": [
    "# Task 정의"
   ]
  },
  {
   "cell_type": "code",
   "execution_count": 4,
   "metadata": {},
   "outputs": [],
   "source": [
    "# Task 정의\n",
    "outline_tast = Task(\n",
    "    description=\"Create a detailed outline for an article about AI\\'s impact on job markets\", # 자세한 설명\n",
    "    agent=outline_generator, # 위에서 선언한 agent\n",
    "    expected_output=\"\"\"A comprehensive outline covering the main aspects of AI\\'s influence on employment\"\"\",\n",
    "    # tools = [A_tools, B_tools]\n",
    ")\n",
    "\n",
    "writing_task = Task(\n",
    "    description=\"Write an article about the findings from the research\",\n",
    "    agent=writer,\n",
    "    expected_output=\"An engaging article discussing AI\\'s influence on job markets\" # 문장 or 문서 형태가 될 수 있음음\n",
    ")"
   ]
  },
  {
   "cell_type": "markdown",
   "metadata": {},
   "source": [
    "# Crew 정의"
   ]
  },
  {
   "cell_type": "code",
   "execution_count": 5,
   "metadata": {},
   "outputs": [],
   "source": [
    "# Crew 정의\n",
    "ai_impact_crew = Crew(\n",
    "    agents=[outline_generator, writer],\n",
    "    tasks=[outline_tast, writing_task],\n",
    "    verbose=True\n",
    ")\n"
   ]
  },
  {
   "cell_type": "code",
   "execution_count": null,
   "metadata": {},
   "outputs": [],
   "source": [
    "# Crew 실행\n",
    "result = ai_impact_crew.kickoff()\n",
    "\n",
    "result\n",
    "type(result)              # 어떤 타입인지\n",
    "dir(result)               # 어떤 속성들이 있는지\n",
    "vars(result)              # 속성 딕셔너리로 접근 가능하면 보기"
   ]
  },
  {
   "cell_type": "markdown",
   "metadata": {},
   "source": [
    "# Process 정의"
   ]
  },
  {
   "cell_type": "code",
   "execution_count": 8,
   "metadata": {},
   "outputs": [],
   "source": [
    "# crew 정의\n",
    "from crewai.process import Process"
   ]
  },
  {
   "cell_type": "code",
   "execution_count": null,
   "metadata": {},
   "outputs": [],
   "source": [
    "ai_impact_crew = Crew(\n",
    "    agents=[outline_generator, writer],\n",
    "    taskts=[outline_tast, writing_task],\n",
    "    verbose=True,\n",
    "    Process=Process.sequential\n",
    ")"
   ]
  },
  {
   "cell_type": "code",
   "execution_count": null,
   "metadata": {},
   "outputs": [],
   "source": [
    "# Crew 실행\n",
    "result = ai_impact_crew.kickoff()\n",
    "result\n"
   ]
  },
  {
   "cell_type": "code",
   "execution_count": null,
   "metadata": {},
   "outputs": [],
   "source": [
    "from IPython.display import display, Markdown\n",
    "display(Markdown(result))\n"
   ]
  },
  {
   "cell_type": "code",
   "execution_count": null,
   "metadata": {},
   "outputs": [],
   "source": []
  }
 ],
 "metadata": {
  "kernelspec": {
   "display_name": "Python 3",
   "language": "python",
   "name": "python3"
  },
  "language_info": {
   "codemirror_mode": {
    "name": "ipython",
    "version": 3
   },
   "file_extension": ".py",
   "mimetype": "text/x-python",
   "name": "python",
   "nbconvert_exporter": "python",
   "pygments_lexer": "ipython3",
   "version": "3.12.3"
  }
 },
 "nbformat": 4,
 "nbformat_minor": 2
}
